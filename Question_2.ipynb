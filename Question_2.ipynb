{
  "cells": [
    {
      "cell_type": "markdown",
      "metadata": {
        "colab_type": "text",
        "id": "view-in-github"
      },
      "source": [
        "<a href=\"https://colab.research.google.com/github/PeterStoreshaw/PeterStoreshaw.github.io/blob/master/Question_2.ipynb\" target=\"_parent\"><img src=\"https://colab.research.google.com/assets/colab-badge.svg\" alt=\"Open In Colab\"/></a>"
      ]
    },
    {
      "cell_type": "markdown",
      "metadata": {
        "id": "kHSb6xuARxY4"
      },
      "source": [
        "## Question 2, What Animal? A deep learning model that can identify 10 different animal species."
      ]
    },
    {
      "attachments": {},
      "cell_type": "markdown",
      "metadata": {},
      "source": [
        "To Begin with we will use the code from fast AI\n",
        "'bird or not'"
      ]
    },
    {
      "cell_type": "code",
      "execution_count": null,
      "metadata": {
        "id": "G6D1vBpqRxY6"
      },
      "outputs": [],
      "source": [
        "# It's a good idea to ensure you're running the latest version of any libraries you need.\n",
        "# `!pip install -Uqq <libraries>` upgrades to the latest version of <libraries>\n",
        "# NB: You can safely ignore any warnings or errors pip spits out about running as root or incompatibilities\n",
        "import os\n",
        "iskaggle = os.environ.get('KAGGLE_KERNEL_RUN_TYPE', '')\n",
        "\n",
        "if iskaggle:\n",
        "    !pip install -Uqq fastai"
      ]
    },
    {
      "attachments": {},
      "cell_type": "markdown",
      "metadata": {},
      "source": [
        "The following downloads duck duck go search and its upgraded version if needed."
      ]
    },
    {
      "cell_type": "code",
      "execution_count": null,
      "metadata": {
        "colab": {
          "base_uri": "https://localhost:8080/"
        },
        "id": "r5fgjp70RxY7",
        "outputId": "b45c2e8b-6feb-47a3-fc1e-33442b675f11"
      },
      "outputs": [],
      "source": [
        "# Skip this cell if you already have duckduckgo_search installed\n",
        "!pip install -Uqq duckduckgo_search"
      ]
    },
    {
      "cell_type": "code",
      "execution_count": null,
      "metadata": {
        "colab": {
          "base_uri": "https://localhost:8080/"
        },
        "id": "X_ZYvajCRxY7",
        "outputId": "f4fd2c31-96e6-4603-842a-96be12b1b7c3"
      },
      "outputs": [],
      "source": [
        "!pip install --upgrade duckduckgo_search"
      ]
    },
    {
      "cell_type": "code",
      "execution_count": null,
      "metadata": {
        "colab": {
          "base_uri": "https://localhost:8080/"
        },
        "id": "TqANxST5RxY8",
        "outputId": "4103587e-b9d1-4f88-f656-ec2c15d1eee8"
      },
      "outputs": [],
      "source": [
        "!pip install fastbook"
      ]
    },
    {
      "cell_type": "code",
      "execution_count": null,
      "metadata": {
        "id": "d81h388QRxY8"
      },
      "outputs": [],
      "source": [
        "from duckduckgo_search import ddg_images\n",
        "from fastcore.all import *\n",
        "\n",
        "def search_images(term, max_images=200): return L(ddg_images(term, max_results=max_images)).itemgot('image')"
      ]
    },
    {
      "cell_type": "markdown",
      "metadata": {
        "id": "du_PFOPqRxY8"
      },
      "source": [
        "Let's start by searching for a bird photo and seeing what kind of result we get. We'll start by getting URLs from a search:"
      ]
    },
    {
      "cell_type": "code",
      "execution_count": null,
      "metadata": {
        "colab": {
          "base_uri": "https://localhost:8080/",
          "height": 35
        },
        "id": "BJAOAXCLRxY8",
        "outputId": "868834c6-0b5e-4e56-c04a-62f3ce0a30dd"
      },
      "outputs": [],
      "source": [
        "from fastbook import search_images_ddg \n",
        "urls = search_images_ddg('bird photos', max_images=1) \n",
        "urls[0]"
      ]
    },
    {
      "cell_type": "markdown",
      "metadata": {
        "id": "-6md3cRmRxY8"
      },
      "source": [
        "...and then download a URL and take a look at it:"
      ]
    },
    {
      "cell_type": "code",
      "execution_count": null,
      "metadata": {
        "colab": {
          "base_uri": "https://localhost:8080/",
          "height": 161
        },
        "id": "_HWfRq55RxY9",
        "outputId": "88a5cd1b-789b-4370-f9fd-01525af3185a"
      },
      "outputs": [],
      "source": [
        "from fastdownload import download_url\n",
        "dest = 'bird.jpg'\n",
        "download_url(urls[0], dest, show_progress=False)\n",
        "\n",
        "from fastai.vision.all import *\n",
        "im = Image.open(dest)\n",
        "im.to_thumb(256,256)"
      ]
    },
    {
      "cell_type": "markdown",
      "metadata": {
        "id": "7JidRdsaRxY9"
      },
      "source": [
        "Now let's do the same with \"cat photos\":"
      ]
    },
    {
      "cell_type": "code",
      "execution_count": null,
      "metadata": {
        "colab": {
          "base_uri": "https://localhost:8080/",
          "height": 273
        },
        "id": "MuFr3wRFRxY9",
        "outputId": "008dfa0a-29d5-4299-a0b8-9801ec5554c5"
      },
      "outputs": [],
      "source": [
        "download_url(search_images_ddg('cat photos', max_images=1)[0], 'cat.jpg', show_progress=False) \n",
        "Image.open('cat.jpg').to_thumb(256,256) \n"
      ]
    },
    {
      "cell_type": "markdown",
      "metadata": {
        "id": "G-5NHd4tRxY9"
      },
      "source": [
        "Now let's do the same with \"gorilla photos\":"
      ]
    },
    {
      "cell_type": "code",
      "execution_count": null,
      "metadata": {
        "colab": {
          "base_uri": "https://localhost:8080/",
          "height": 188
        },
        "id": "TFTsdzDmRxY9",
        "outputId": "13d95918-43cb-4e6d-f151-57c5186a56f5"
      },
      "outputs": [],
      "source": [
        "download_url(search_images_ddg('gorilla photos', max_images=1)[0], 'gorilla.jpg', show_progress=False) \n",
        "Image.open('gorilla.jpg').to_thumb(256,256) "
      ]
    },
    {
      "cell_type": "markdown",
      "metadata": {
        "id": "gmCSw0Q4RxY-"
      },
      "source": [
        "Now let's do the same with \"insect photos\":"
      ]
    },
    {
      "cell_type": "code",
      "execution_count": null,
      "metadata": {
        "colab": {
          "base_uri": "https://localhost:8080/",
          "height": 183
        },
        "id": "xi7FI6GARxY-",
        "outputId": "e5f1a0e7-c005-45a1-883a-d4a74c1568d6"
      },
      "outputs": [],
      "source": [
        "download_url(search_images_ddg('insect photos', max_images=1)[0], 'insect.jpg', show_progress=False) \n",
        "Image.open('insect.jpg').to_thumb(256,256) "
      ]
    },
    {
      "cell_type": "markdown",
      "metadata": {
        "id": "zDHbP22hRxY-"
      },
      "source": [
        "Now let's do the same with \"fish photos\":"
      ]
    },
    {
      "cell_type": "code",
      "execution_count": null,
      "metadata": {
        "colab": {
          "base_uri": "https://localhost:8080/",
          "height": 209
        },
        "id": "-9XoGk6uRxY-",
        "outputId": "e31e08f7-cf7b-4dd0-d8bb-5b0347b772d9"
      },
      "outputs": [],
      "source": [
        "download_url(search_images_ddg('fish photos', max_images=1)[0], 'fish.jpg', show_progress=False) \n",
        "Image.open('fish.jpg').to_thumb(256,256) "
      ]
    },
    {
      "cell_type": "markdown",
      "metadata": {
        "id": "Nsf3WNNiRxY-"
      },
      "source": [
        "Now let's do the same with \"kangaroo photos\":"
      ]
    },
    {
      "cell_type": "code",
      "execution_count": null,
      "metadata": {
        "colab": {
          "base_uri": "https://localhost:8080/",
          "height": 204
        },
        "id": "n6vpyFJwRxY_",
        "outputId": "fb2e8575-76be-48a2-9860-169dfda460ba"
      },
      "outputs": [],
      "source": [
        "download_url(search_images_ddg('kangaroo photos', max_images=1)[0], 'kangaroo.jpg', show_progress=False) \n",
        "Image.open('kangaroo.jpg').to_thumb(256,256) "
      ]
    },
    {
      "cell_type": "markdown",
      "metadata": {
        "id": "5LrZozPaRxY_"
      },
      "source": [
        "Now let's do the same with \"koala photos\":"
      ]
    },
    {
      "cell_type": "code",
      "execution_count": null,
      "metadata": {
        "colab": {
          "base_uri": "https://localhost:8080/",
          "height": 188
        },
        "id": "vN5akQ-cRxY_",
        "outputId": "11814d89-2f0f-4d02-a61b-1ced7143123a"
      },
      "outputs": [],
      "source": [
        "download_url(search_images_ddg('koala photos', max_images=1)[0], 'koala.jpg', show_progress=False) \n",
        "Image.open('koala.jpg').to_thumb(256,256) "
      ]
    },
    {
      "cell_type": "markdown",
      "metadata": {
        "id": "IeMxYtzPRxY_"
      },
      "source": [
        "Now let's do the same with \"elephant photos\":"
      ]
    },
    {
      "cell_type": "code",
      "execution_count": null,
      "metadata": {
        "colab": {
          "base_uri": "https://localhost:8080/",
          "height": 272
        },
        "id": "ANAIALDQRxY_",
        "outputId": "a659a663-9f08-49bd-b167-dc6dc76f82c1"
      },
      "outputs": [],
      "source": [
        "download_url(search_images_ddg('elephant photos', max_images=1)[0], 'elephant.jpg', show_progress=False) \n",
        "Image.open('elephant.jpg').to_thumb(256,256) "
      ]
    },
    {
      "cell_type": "markdown",
      "metadata": {
        "id": "pLXHo5EaRxY_"
      },
      "source": [
        "Now let's do the same with \"lizards photos\":"
      ]
    },
    {
      "cell_type": "code",
      "execution_count": null,
      "metadata": {
        "colab": {
          "base_uri": "https://localhost:8080/",
          "height": 273
        },
        "id": "Z-_YcMHURxZA",
        "outputId": "67593feb-fe44-4e52-db72-84cb0e6cee09"
      },
      "outputs": [],
      "source": [
        "download_url(search_images_ddg('lizard photos', max_images=1)[0], 'lizard.jpg', show_progress=False) \n",
        "Image.open('lizard.jpg').to_thumb(256,256) "
      ]
    },
    {
      "cell_type": "markdown",
      "metadata": {
        "id": "rveXDY4KRxZA"
      },
      "source": [
        "Now let's do the same with \"frog photos\":"
      ]
    },
    {
      "cell_type": "code",
      "execution_count": null,
      "metadata": {
        "colab": {
          "base_uri": "https://localhost:8080/",
          "height": 188
        },
        "id": "9XWzzUSDRxZA",
        "outputId": "d58829e8-099c-4108-9f77-28cda19d7923"
      },
      "outputs": [],
      "source": [
        "download_url(search_images_ddg('frog photos', max_images=1)[0], 'frog.jpg', show_progress=False) \n",
        "Image.open('frog.jpg').to_thumb(256,256) "
      ]
    },
    {
      "cell_type": "markdown",
      "metadata": {
        "id": "4SE-asC-RxZA"
      },
      "source": [
        "Our searches seem to be giving reasonable results, so let's grab 200 examples of each of \"bird\" and \"forest\" photos, and save each group of photos to a different folder:"
      ]
    },
    {
      "attachments": {},
      "cell_type": "markdown",
      "metadata": {},
      "source": [
        "If using google colab we can just grab those photos already downloaded.\n",
        "If runing for the first time skip this step "
      ]
    },
    {
      "cell_type": "code",
      "execution_count": null,
      "metadata": {
        "id": "RviESGqKeEI2"
      },
      "outputs": [],
      "source": [
        "from google.colab import drive\n",
        "\n",
        "drive.mount('/content/drive')\n",
        "\n",
        "!unzip '/content/drive/MyDrive/Q2t.zip'\n",
        "\n",
        "path = Path('Q2') "
      ]
    },
    {
      "cell_type": "code",
      "execution_count": null,
      "metadata": {
        "colab": {
          "base_uri": "https://localhost:8080/"
        },
        "id": "tJlZCedxRxZA",
        "outputId": "841b1207-2373-4676-a9bb-576e0eae8d17"
      },
      "outputs": [],
      "source": [
        "searches = 'cat', 'gorilla', 'insect', 'fish', 'koala', 'kangaroo', 'lizard', 'frog', 'elephant', 'bird' \n",
        "path = Path('Q2') \n",
        "from time import sleep \n",
        "\n",
        "for o in searches: \n",
        "    dest = (path/o) \n",
        "    dest.mkdir(exist_ok=True, parents=True) \n",
        "    download_images(dest, urls=search_images_ddg(f'{o} photo')) \n",
        "    sleep(10)  # Pause between searches to avoid over-loading server \n",
        "    download_images(dest, urls=search_images_ddg(f'{o} sun photo')) \n",
        "    sleep(10) \n",
        "    download_images(dest, urls=search_images_ddg(f'{o} shade photo')) \n",
        "    sleep(10) \n",
        "    resize_images(path/o, max_size=400, dest=path/o) \n"
      ]
    },
    {
      "cell_type": "markdown",
      "metadata": {
        "id": "tTe5fu0HRxZA"
      },
      "source": [
        "## Step 2: Train our model"
      ]
    },
    {
      "cell_type": "markdown",
      "metadata": {
        "id": "zEhrPkh0RxZB"
      },
      "source": [
        "Some photos might not download correctly which could cause our model training to fail, so we'll remove them:"
      ]
    },
    {
      "cell_type": "code",
      "execution_count": null,
      "metadata": {
        "colab": {
          "base_uri": "https://localhost:8080/"
        },
        "id": "ph-exNaeRxZB",
        "outputId": "d404e91f-b208-4b39-94fa-6f1086e93eab"
      },
      "outputs": [],
      "source": [
        "failed = verify_images(get_image_files(path))\n",
        "failed.map(Path.unlink)\n",
        "len(failed)"
      ]
    },
    {
      "cell_type": "markdown",
      "metadata": {
        "id": "1BOMpobNRxZB"
      },
      "source": [
        "To train a model, we'll need `DataLoaders`, which is an object that contains a *training set* (the images used to create a model) and a *validation set* (the images used to check the accuracy of a model -- not used during training). In `fastai` we can create that easily using a `DataBlock`, and view sample images from it:"
      ]
    },
    {
      "cell_type": "code",
      "execution_count": null,
      "metadata": {
        "colab": {
          "base_uri": "https://localhost:8080/",
          "height": 517
        },
        "id": "RLYDsCN3RxZB",
        "outputId": "cfea2cfe-278f-4eb9-cbaf-6ca5881cd169"
      },
      "outputs": [],
      "source": [
        "dls = DataBlock(\n",
        "    blocks=(ImageBlock, CategoryBlock), \n",
        "    get_items=get_image_files, \n",
        "    splitter=RandomSplitter(valid_pct=0.2, seed=42),\n",
        "    get_y=parent_label,\n",
        "    item_tfms=[Resize(192, method='squish')]\n",
        ").dataloaders(path)\n",
        "\n",
        "dls.show_batch(max_n=6)"
      ]
    },
    {
      "cell_type": "markdown",
      "metadata": {
        "id": "Ti_p-4qyRxZB"
      },
      "source": [
        "Here what each of the `DataBlock` parameters means:\n",
        "\n",
        "    blocks=(ImageBlock, CategoryBlock),\n",
        "\n",
        "The inputs to our model are images, and the outputs are categories (in this case, \"bird\" or \"forest\").\n",
        "\n",
        "    get_items=get_image_files, \n",
        "\n",
        "To find all the inputs to our model, run the `get_image_files` function (which returns a list of all image files in a path).\n",
        "\n",
        "    splitter=RandomSplitter(valid_pct=0.2, seed=42),\n",
        "\n",
        "Split the data into training and validation sets randomly, using 20% of the data for the validation set.\n",
        "\n",
        "    get_y=parent_label,\n",
        "\n",
        "The labels (`y` values) is the name of the `parent` of each file (i.e. the name of the folder they're in, which will be *bird* or *forest*).\n",
        "\n",
        "    item_tfms=[Resize(192, method='squish')]\n",
        "\n",
        "Before training, resize each image to 192x192 pixels by \"squishing\" it (as opposed to cropping it)."
      ]
    },
    {
      "cell_type": "markdown",
      "metadata": {
        "id": "GVh90iKfRxZB"
      },
      "source": [
        "Now we're ready to train our model. The fastest widely used computer vision model is `resnet18`. You can train this in a few minutes, even on a CPU! (On a GPU, it generally takes under 10 seconds...)\n",
        "\n",
        "`fastai` comes with a helpful `fine_tune()` method which automatically uses best practices for fine tuning a pre-trained model, so we'll use that."
      ]
    },
    {
      "attachments": {},
      "cell_type": "markdown",
      "metadata": {},
      "source": [
        "If running in colab, once all photos downloaded. Run this box, otherwise skip."
      ]
    },
    {
      "cell_type": "code",
      "execution_count": null,
      "metadata": {
        "colab": {
          "base_uri": "https://localhost:8080/"
        },
        "id": "1VgMNCWtXxis",
        "outputId": "a43ae1c8-f7ef-4c96-caf7-62d1d6c638ae"
      },
      "outputs": [],
      "source": [
        "from google.colab import drive\n",
        "\n",
        "# mount will create a folder at the left folder section on the page, but it will take a minute or so to see it\n",
        "\n",
        "drive.mount('/content/drive') \n",
        "\n",
        "!zip -r Q2.zip Q2\n",
        "\n",
        "!cp Q2.zip /content/drive/My\\ Drive/ "
      ]
    },
    {
      "attachments": {},
      "cell_type": "markdown",
      "metadata": {},
      "source": [
        "Run the learner"
      ]
    },
    {
      "cell_type": "code",
      "execution_count": null,
      "metadata": {
        "colab": {
          "base_uri": "https://localhost:8080/",
          "height": 331
        },
        "id": "_J0dKEI5RxZC",
        "outputId": "448f0f3c-bbba-4f1a-9d1a-62448d8d56f6"
      },
      "outputs": [],
      "source": [
        "learn = vision_learner(dls, resnet34, metrics=error_rate)\n",
        "learn.fine_tune(3)"
      ]
    },
    {
      "attachments": {},
      "cell_type": "markdown",
      "metadata": {},
      "source": [
        "Create and plot a confusion matrix"
      ]
    },
    {
      "cell_type": "code",
      "execution_count": null,
      "metadata": {
        "colab": {
          "base_uri": "https://localhost:8080/",
          "height": 504
        },
        "id": "rVOlkSLlRxZJ",
        "outputId": "d3cee355-b668-4fea-c532-9551a1e3ac73"
      },
      "outputs": [],
      "source": [
        "interp = ClassificationInterpretation.from_learner(learn)\n",
        "interp.plot_confusion_matrix()"
      ]
    },
    {
      "attachments": {},
      "cell_type": "markdown",
      "metadata": {},
      "source": [
        "Show the worst 8 photos for confusion"
      ]
    },
    {
      "cell_type": "code",
      "execution_count": null,
      "metadata": {
        "colab": {
          "base_uri": "https://localhost:8080/",
          "height": 140
        },
        "id": "NAdNBJTWRxZJ",
        "outputId": "9a9f4ade-8b41-4062-81ec-b2f5f7663df8"
      },
      "outputs": [],
      "source": [
        "interp.plot_top_losses(8, nrows=1)\n"
      ]
    },
    {
      "cell_type": "markdown",
      "metadata": {
        "id": "X7iM7rbBRxZJ"
      },
      "source": [
        "## Step 3: Use our model (and build your own!)"
      ]
    },
    {
      "cell_type": "markdown",
      "metadata": {
        "id": "pgGKxzeaRxZJ"
      },
      "source": [
        "Let's see what our model thinks about that bird we downloaded at the start:"
      ]
    },
    {
      "cell_type": "code",
      "execution_count": null,
      "metadata": {
        "colab": {
          "base_uri": "https://localhost:8080/",
          "height": 34
        },
        "id": "c0hYy5OsRxZJ",
        "outputId": "bcfbfd67-009b-4542-e24a-35a5a1302337"
      },
      "outputs": [],
      "source": [
        "guess,_,probs = learn.predict(PILImage.create('images.jpg'))\n",
        "print(f\"This is a: {guess}.\")\n"
      ]
    }
  ],
  "metadata": {
    "accelerator": "GPU",
    "colab": {
      "gpuType": "T4",
      "include_colab_link": true,
      "provenance": []
    },
    "gpuClass": "standard",
    "kernelspec": {
      "display_name": "Python 3 (ipykernel)",
      "language": "python",
      "name": "python3"
    },
    "language_info": {
      "codemirror_mode": {
        "name": "ipython",
        "version": 3
      },
      "file_extension": ".py",
      "mimetype": "text/x-python",
      "name": "python",
      "nbconvert_exporter": "python",
      "pygments_lexer": "ipython3",
      "version": "3.10.11"
    }
  },
  "nbformat": 4,
  "nbformat_minor": 0
}
