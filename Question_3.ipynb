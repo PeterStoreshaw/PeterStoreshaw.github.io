{
  "cells": [
    {
      "cell_type": "markdown",
      "metadata": {
        "colab_type": "text",
        "id": "view-in-github"
      },
      "source": [
        "<a href=\"https://colab.research.google.com/github/PeterStoreshaw/PeterStoreshaw.github.io/blob/master/Question_2.ipynb\" target=\"_parent\"><img src=\"https://colab.research.google.com/assets/colab-badge.svg\" alt=\"Open In Colab\"/></a>"
      ]
    },
    {
      "attachments": {},
      "cell_type": "markdown",
      "metadata": {
        "id": "kHSb6xuARxY4"
      },
      "source": [
        "## Question 3, Fake vs Real Images"
      ]
    },
    {
      "attachments": {},
      "cell_type": "markdown",
      "metadata": {},
      "source": [
        "To Begin with we will use the code from fast AI\n",
        "'bird or not'"
      ]
    },
    {
      "cell_type": "code",
      "execution_count": null,
      "metadata": {
        "id": "G6D1vBpqRxY6"
      },
      "outputs": [],
      "source": [
        "# It's a good idea to ensure you're running the latest version of any libraries you need.\n",
        "# `!pip install -Uqq <libraries>` upgrades to the latest version of <libraries>\n",
        "# NB: You can safely ignore any warnings or errors pip spits out about running as root or incompatibilities\n",
        "import os\n",
        "iskaggle = os.environ.get('KAGGLE_KERNEL_RUN_TYPE', '')\n",
        "\n",
        "if iskaggle:\n",
        "    !pip install -Uqq fastai"
      ]
    },
    {
      "attachments": {},
      "cell_type": "markdown",
      "metadata": {},
      "source": [
        "Install Fastbook"
      ]
    },
    {
      "cell_type": "code",
      "execution_count": null,
      "metadata": {
        "colab": {
          "base_uri": "https://localhost:8080/"
        },
        "id": "TqANxST5RxY8",
        "outputId": "4103587e-b9d1-4f88-f656-ec2c15d1eee8"
      },
      "outputs": [],
      "source": [
        "!pip install fastbook"
      ]
    },
    {
      "attachments": {},
      "cell_type": "markdown",
      "metadata": {},
      "source": [
        "If using google colab we can just grab those photos already downloaded."
      ]
    },
    {
      "cell_type": "code",
      "execution_count": null,
      "metadata": {
        "id": "RviESGqKeEI2"
      },
      "outputs": [],
      "source": [
        "from google.colab import drive\n",
        "\n",
        "drive.mount('/content/drive')\n",
        "\n",
        "!unzip '/content/drive/MyDrive/archive.zip'\n",
        "\n",
        "path = Path('train') "
      ]
    },
    {
      "attachments": {},
      "cell_type": "markdown",
      "metadata": {},
      "source": [
        "If the previous step was run and successful SKIP THIS STEP."
      ]
    },
    {
      "cell_type": "markdown",
      "metadata": {
        "id": "tTe5fu0HRxZA"
      },
      "source": [
        "## Step 2: Train our model"
      ]
    },
    {
      "cell_type": "markdown",
      "metadata": {
        "id": "zEhrPkh0RxZB"
      },
      "source": [
        "Some photos might not download correctly which could cause our model training to fail, so we'll remove them:"
      ]
    },
    {
      "attachments": {},
      "cell_type": "markdown",
      "metadata": {},
      "source": [
        "After this step I went into the folders and manualy deleted all of the phots that do not fit. There were so so many lamps. The process is detailed in my blog."
      ]
    },
    {
      "cell_type": "code",
      "execution_count": null,
      "metadata": {
        "colab": {
          "base_uri": "https://localhost:8080/"
        },
        "id": "ph-exNaeRxZB",
        "outputId": "d404e91f-b208-4b39-94fa-6f1086e93eab"
      },
      "outputs": [],
      "source": [
        "failed = verify_images(get_image_files(path))\n",
        "failed.map(Path.unlink)\n",
        "len(failed)"
      ]
    },
    {
      "attachments": {},
      "cell_type": "markdown",
      "metadata": {},
      "source": [
        "Create the data block."
      ]
    },
    {
      "cell_type": "code",
      "execution_count": null,
      "metadata": {
        "colab": {
          "base_uri": "https://localhost:8080/",
          "height": 517
        },
        "id": "RLYDsCN3RxZB",
        "outputId": "cfea2cfe-278f-4eb9-cbaf-6ca5881cd169"
      },
      "outputs": [],
      "source": [
        "dls = DataBlock(\n",
        "    blocks=(ImageBlock, CategoryBlock), \n",
        "    get_items=get_image_files, \n",
        "    splitter=RandomSplitter(valid_pct=0.2, seed=42),\n",
        "    get_y=parent_label,\n",
        "    item_tfms=[Resize(192, method='squish')]\n",
        ").dataloaders(path)\n",
        "\n",
        "dls.show_batch(max_n=6)"
      ]
    },
    {
      "attachments": {},
      "cell_type": "markdown",
      "metadata": {},
      "source": [
        "Run the learner. Here we can change the aritecture to see if there are any differnces. As well as the fine tuning. When comparing the confusion matrix we can improve the program."
      ]
    },
    {
      "cell_type": "code",
      "execution_count": null,
      "metadata": {
        "colab": {
          "base_uri": "https://localhost:8080/",
          "height": 331
        },
        "id": "_J0dKEI5RxZC",
        "outputId": "448f0f3c-bbba-4f1a-9d1a-62448d8d56f6"
      },
      "outputs": [],
      "source": [
        "learn = vision_learner(dls, resnet34, metrics=error_rate)\n",
        "learn.fine_tune(3)"
      ]
    },
    {
      "attachments": {},
      "cell_type": "markdown",
      "metadata": {},
      "source": [
        "## Step 3: Check Accuracy"
      ]
    },
    {
      "attachments": {},
      "cell_type": "markdown",
      "metadata": {},
      "source": [
        "Create and plot a confusion matrix\n"
      ]
    },
    {
      "attachments": {},
      "cell_type": "markdown",
      "metadata": {},
      "source": [
        "The confusion matrix will help identify the accuracy. \n",
        "It works by finding the true negative, true positive, false negative and false positive for each selection. \n",
        "So, if we predicted cat, and it was a cat that is a true positive. \n",
        "The matrix this code will create just looks at true positives and incorrect choices. If the majority of diagonal line from left to right is all 100 percent we know that the system is perfectly accurate. \n"
      ]
    },
    {
      "cell_type": "code",
      "execution_count": null,
      "metadata": {
        "colab": {
          "base_uri": "https://localhost:8080/",
          "height": 504
        },
        "id": "rVOlkSLlRxZJ",
        "outputId": "d3cee355-b668-4fea-c532-9551a1e3ac73"
      },
      "outputs": [],
      "source": [
        "interp = ClassificationInterpretation.from_learner(learn)\n",
        "interp.plot_confusion_matrix()"
      ]
    },
    {
      "attachments": {},
      "cell_type": "markdown",
      "metadata": {},
      "source": [
        "Show the worst 8 photos for confusion.\n",
        " This shows us the 8 most troublesome photos that the sytem is stugling to correctly identify."
      ]
    },
    {
      "cell_type": "code",
      "execution_count": null,
      "metadata": {
        "colab": {
          "base_uri": "https://localhost:8080/",
          "height": 140
        },
        "id": "NAdNBJTWRxZJ",
        "outputId": "9a9f4ade-8b41-4062-81ec-b2f5f7663df8"
      },
      "outputs": [],
      "source": [
        "interp.plot_top_losses(8, nrows=1)\n"
      ]
    },
    {
      "attachments": {},
      "cell_type": "markdown",
      "metadata": {
        "id": "X7iM7rbBRxZJ"
      },
      "source": [
        "## Step 4: Prediction"
      ]
    },
    {
      "cell_type": "code",
      "execution_count": null,
      "metadata": {
        "colab": {
          "base_uri": "https://localhost:8080/",
          "height": 34
        },
        "id": "c0hYy5OsRxZJ",
        "outputId": "bcfbfd67-009b-4542-e24a-35a5a1302337"
      },
      "outputs": [],
      "source": [
        "guess,_,probs = learn.predict(PILImage.create('images.jpg'))\n",
        "print(f\"This is a: {guess}.\")\n"
      ]
    }
  ],
  "metadata": {
    "accelerator": "GPU",
    "colab": {
      "gpuType": "T4",
      "include_colab_link": true,
      "provenance": []
    },
    "gpuClass": "standard",
    "kernelspec": {
      "display_name": "Python 3 (ipykernel)",
      "language": "python",
      "name": "python3"
    },
    "language_info": {
      "codemirror_mode": {
        "name": "ipython",
        "version": 3
      },
      "file_extension": ".py",
      "mimetype": "text/x-python",
      "name": "python",
      "nbconvert_exporter": "python",
      "pygments_lexer": "ipython3",
      "version": "3.10.11"
    }
  },
  "nbformat": 4,
  "nbformat_minor": 0
}
